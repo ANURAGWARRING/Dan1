{
 "cells": [
  {
   "cell_type": "code",
   "execution_count": 1,
   "metadata": {},
   "outputs": [
    {
     "data": {
      "text/plain": [
       "'temp-plot.html'"
      ]
     },
     "execution_count": 1,
     "metadata": {},
     "output_type": "execute_result"
    }
   ],
   "source": [
    "from plotly.offline import plot\n",
    "import plotly.graph_objs as go\n",
    "\n",
    "fig = go.Figure(data=[go.Bar(y=[1, 3, 2])])\n",
    "plot(fig, auto_open=True)"
   ]
  },
  {
   "cell_type": "code",
   "execution_count": 19,
   "metadata": {},
   "outputs": [
    {
     "data": {
      "text/plain": [
       "'lowest-oecd-votes-cast.html'"
      ]
     },
     "execution_count": 19,
     "metadata": {},
     "output_type": "execute_result"
    }
   ],
   "source": [
    "import numpy as np\n",
    "import plotly\n",
    "import plotly.graph_objs as go\n",
    "from plotly.offline import download_plotlyjs, init_notebook_mode, plot, iplot\n",
    "\n",
    "\n",
    "data_file = np.loadtxt('daniLog.txt.csv',delimiter=',' ,dtype=str)\n",
    "sensor_read_co2 = data_file[16:1016,1]\n",
    "Co2_to_be_plotted = list(sensor_read_co2)\n",
    "sensor_read_O2 = data_file[16:216,3]\n",
    "O2_to_be_plotted = list(sensor_read_O2)\n",
    "Rq = data_file[16:,9]\n",
    "\n",
    "\n",
    "time_diffrence = (np.datetime64('2019-05-30T11:17:37') - np.datetime64('2019-05-29T17:16:48'))/2\n",
    "y1 = np.arange(0,31516,1)\n",
    "\n",
    "trace0 = go.Scatter(\n",
    "    x=y1,\n",
    "    y=Rq,\n",
    "    mode='markers',\n",
    "    name='Percent of estimated voting age population',\n",
    "    marker=dict(\n",
    "        color='rgba(156, 165, 196, 0.95)',\n",
    "        line=dict(\n",
    "            color='rgba(156, 165, 196, 1.0)',\n",
    "            width=0.1,\n",
    "        ),\n",
    "        symbol='circle',\n",
    "        size=2,\n",
    "    )\n",
    ")\n",
    "\n",
    "data = [trace0]\n",
    "layout = go.Layout(\n",
    "    title=\"Votes cast for ten lowest voting age population in OECD countries\",\n",
    "    xaxis=dict(\n",
    "        showgrid=False,\n",
    "        showline=True,\n",
    "        linecolor='rgb(102, 102, 102)',\n",
    "        titlefont=dict(\n",
    "            color='rgb(204, 204, 204)'\n",
    "        ),\n",
    "        tickfont=dict(\n",
    "            color='rgb(102, 102, 102)',\n",
    "        ),\n",
    "        showticklabels=True,\n",
    "        dtick=10,\n",
    "        ticks='outside',\n",
    "        tickcolor='rgb(102, 102, 102)',\n",
    "    ),\n",
    "    margin=dict(\n",
    "        l=140,\n",
    "        r=40,\n",
    "        b=50,\n",
    "        t=80\n",
    "    ),\n",
    "    legend=dict(\n",
    "        font=dict(\n",
    "            size=10,\n",
    "        ),\n",
    "        yanchor='middle',\n",
    "        xanchor='right',\n",
    "    ),\n",
    "    width=8000,\n",
    "    height=600,\n",
    "    paper_bgcolor='rgb(254, 247, 234)',\n",
    "    plot_bgcolor='rgb(254, 247, 234)',\n",
    "    hovermode='closest',\n",
    ")\n",
    "fig = go.Figure(data=data, layout=layout)\n",
    "plot(fig, filename='lowest-oecd-votes-cast')"
   ]
  },
  {
   "cell_type": "code",
   "execution_count": null,
   "metadata": {},
   "outputs": [],
   "source": []
  },
  {
   "cell_type": "code",
   "execution_count": 20,
   "metadata": {},
   "outputs": [
    {
     "data": {
      "text/plain": [
       "'temp-plot.html'"
      ]
     },
     "execution_count": 20,
     "metadata": {},
     "output_type": "execute_result"
    }
   ],
   "source": [
    "import numpy as np\n",
    "import plotly\n",
    "import plotly.graph_objs as go\n",
    "from plotly.offline import download_plotlyjs, init_notebook_mode, plot, iplot\n",
    "\n",
    "\n",
    "data_file = np.loadtxt('daniLog.txt.csv',delimiter=',' ,dtype=str)\n",
    "sensor_read_co2 = data_file[16:1016,1]\n",
    "Co2_to_be_plotted = list(sensor_read_co2)\n",
    "sensor_read_O2 = data_file[16:216,3]\n",
    "O2_to_be_plotted = list(sensor_read_O2)\n",
    "Rq = data_file[16:,9]\n",
    "\n",
    "\n",
    "time_diffrence = (np.datetime64('2019-05-30T11:17:37') - np.datetime64('2019-05-29T17:16:48'))/2\n",
    "y1 = np.arange(0,31516,1)\n",
    "\n",
    "plot([go.Scatter(x=y1, y=Rq)])"
   ]
  },
  {
   "cell_type": "code",
   "execution_count": null,
   "metadata": {},
   "outputs": [],
   "source": []
  }
 ],
 "metadata": {
  "kernelspec": {
   "display_name": "Python 3",
   "language": "python",
   "name": "python3"
  },
  "language_info": {
   "codemirror_mode": {
    "name": "ipython",
    "version": 3
   },
   "file_extension": ".py",
   "mimetype": "text/x-python",
   "name": "python",
   "nbconvert_exporter": "python",
   "pygments_lexer": "ipython3",
   "version": "3.7.3"
  }
 },
 "nbformat": 4,
 "nbformat_minor": 2
}
