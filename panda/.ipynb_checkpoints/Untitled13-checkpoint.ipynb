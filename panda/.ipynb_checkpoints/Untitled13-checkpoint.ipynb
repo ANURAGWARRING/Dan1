{
 "cells": [
  {
   "cell_type": "code",
   "execution_count": 19,
   "metadata": {},
   "outputs": [
    {
     "name": "stdout",
     "output_type": "stream",
     "text": [
      "Sample Name\n",
      "1.0\n",
      "2.0\n",
      "3.0\n",
      "4.0\n",
      "5.0\n",
      "6.0\n",
      "7.0\n",
      "8.0\n",
      "9.0\n",
      "10.0\n",
      "11.0\n",
      "12.0\n",
      "13.0\n",
      "14.0\n",
      "15.0\n",
      "16.0\n",
      "17.0\n",
      "18.0\n",
      "19.0\n",
      "20.0\n",
      "21.0\n",
      "22.0\n",
      "23.0\n",
      "24.0\n",
      "25.0\n",
      "26.0\n",
      "27.0\n",
      "28.0\n",
      "29.0\n",
      "267\n"
     ]
    }
   ],
   "source": [
    "import openpyxl \n",
    "  \n",
    "# Give the location of the file \n",
    "path = \"Example for data processing (3).xlsx\"\n",
    "  \n",
    "# workbook object is created \n",
    "wb_obj = openpyxl.load_workbook(path) \n",
    "  \n",
    "sheet_obj = wb_obj.active\n",
    "count=1\n",
    "m_row = sheet_obj.max_row \n",
    "for i in range(10, m_row + 1): \n",
    "    cell_obj = sheet_obj.cell(row = i, column = 4)\n",
    "    count=count+1\n",
    "    if cell_obj.value == None:\n",
    "        break\n",
    "    print(cell_obj.value)\n",
    "print(m_row-count)"
   ]
  },
  {
   "cell_type": "code",
   "execution_count": null,
   "metadata": {},
   "outputs": [],
   "source": []
  }
 ],
 "metadata": {
  "kernelspec": {
   "display_name": "Python 3",
   "language": "python",
   "name": "python3"
  },
  "language_info": {
   "codemirror_mode": {
    "name": "ipython",
    "version": 3
   },
   "file_extension": ".py",
   "mimetype": "text/x-python",
   "name": "python",
   "nbconvert_exporter": "python",
   "pygments_lexer": "ipython3",
   "version": "3.7.3"
  }
 },
 "nbformat": 4,
 "nbformat_minor": 2
}
