{
 "cells": [
  {
   "cell_type": "code",
   "execution_count": null,
   "metadata": {},
   "outputs": [],
   "source": [
    "import numpy as np\n",
    "import plotly\n",
    "import plotly.graph_objs as go\n",
    "from plotly.offline import download_plotlyjs, init_notebook_mode, plot, iplot\n",
    "\n",
    "data_file = np.loadtxt('etoh823.txt.csv',delimiter=',' ,dtype=str)\n",
    "sensor_read_co2 = data_file[16:1016,1]\n",
    "Co2_to_be_plotted = list(sensor_read_co2)\n",
    "sensor_read_O2 = data_file[16:216,3]\n",
    "O2_to_be_plotted = list(sensor_read_O2)\n",
    "Rq = data_file[16:,9]\n",
    "\n",
    "\n",
    "time_diffrence = (np.datetime64('2019-05-30T11:17:37') - np.datetime64('2019-05-29T17:16:48'))/2\n",
    "y1 = np.arange(0,31516,1)\n",
    "\n",
    "plot([go.Scatter(x=y1, y=Rq)])"
   ]
  },
  {
   "cell_type": "code",
   "execution_count": null,
   "metadata": {},
   "outputs": [],
   "source": []
  },
  {
   "cell_type": "code",
   "execution_count": null,
   "metadata": {},
   "outputs": [],
   "source": []
  },
  {
   "cell_type": "code",
   "execution_count": null,
   "metadata": {},
   "outputs": [],
   "source": []
  },
  {
   "cell_type": "code",
   "execution_count": null,
   "metadata": {},
   "outputs": [],
   "source": []
  }
 ],
 "metadata": {
  "kernelspec": {
   "display_name": "Python 3",
   "language": "python",
   "name": "python3"
  },
  "language_info": {
   "codemirror_mode": {
    "name": "ipython",
    "version": 3
   },
   "file_extension": ".py",
   "mimetype": "text/x-python",
   "name": "python",
   "nbconvert_exporter": "python",
   "pygments_lexer": "ipython3",
   "version": "3.7.3"
  }
 },
 "nbformat": 4,
 "nbformat_minor": 2
}
