{
 "cells": [
  {
   "cell_type": "code",
   "execution_count": 28,
   "metadata": {},
   "outputs": [
    {
     "name": "stdout",
     "output_type": "stream",
     "text": [
      "262\n",
      "37\n"
     ]
    }
   ],
   "source": [
    "import openpyxl \n",
    "  \n",
    "# Give the location of the file \n",
    "path = \"Example for data processing (3).xlsx\"\n",
    "  \n",
    "# workbook object is created \n",
    "wb_obj = openpyxl.load_workbook(path) \n",
    "count=0 \n",
    "sheet_obj = wb_obj.active \n",
    "m_row = sheet_obj.max_row \n",
    "for i in range(10, m_row + 1): \n",
    "    \n",
    "    cell_obj = sheet_obj.cell(row = i+9, column = 4) \n",
    "    if sheet_obj.cell(row=i+1, column=4).value == None:\n",
    "        count+=1\n",
    "print(count)\n",
    "print(m_row-count)"
   ]
  },
  {
   "cell_type": "code",
   "execution_count": null,
   "metadata": {},
   "outputs": [],
   "source": []
  },
  {
   "cell_type": "code",
   "execution_count": null,
   "metadata": {},
   "outputs": [],
   "source": []
  },
  {
   "cell_type": "code",
   "execution_count": null,
   "metadata": {},
   "outputs": [],
   "source": []
  }
 ],
 "metadata": {
  "kernelspec": {
   "display_name": "Python 3",
   "language": "python",
   "name": "python3"
  },
  "language_info": {
   "codemirror_mode": {
    "name": "ipython",
    "version": 3
   },
   "file_extension": ".py",
   "mimetype": "text/x-python",
   "name": "python",
   "nbconvert_exporter": "python",
   "pygments_lexer": "ipython3",
   "version": "3.7.3"
  }
 },
 "nbformat": 4,
 "nbformat_minor": 2
}
