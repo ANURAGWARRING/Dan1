{
 "cells": [
  {
   "cell_type": "code",
   "execution_count": 27,
   "metadata": {},
   "outputs": [
    {
     "ename": "SyntaxError",
     "evalue": "invalid syntax (<ipython-input-27-a7427c4a74f2>, line 24)",
     "output_type": "error",
     "traceback": [
      "\u001b[1;36m  File \u001b[1;32m\"<ipython-input-27-a7427c4a74f2>\"\u001b[1;36m, line \u001b[1;32m24\u001b[0m\n\u001b[1;33m    for i in range(10,count+1)\u001b[0m\n\u001b[1;37m                              ^\u001b[0m\n\u001b[1;31mSyntaxError\u001b[0m\u001b[1;31m:\u001b[0m invalid syntax\n"
     ]
    }
   ],
   "source": [
    "import openpyxl \n",
    "  \n",
    "# Give the location of the file \n",
    "path = \"Example for data processing (3).xlsx\"\n",
    "  \n",
    "# workbook object is created \n",
    "wb_obj = openpyxl.load_workbook(path) \n",
    "  \n",
    "sheet_obj = wb_obj.active\n",
    "count=0\n",
    "count1=0\n",
    "m_row = sheet_obj.max_row \n",
    "for i in range(10, m_row + 1): \n",
    "    cell_obj = sheet_obj.cell(row = i, column = 4)\n",
    "    count=count+1\n",
    "    count1=count1+cell_obj.value\n",
    "    if cell_obj.value == None:\n",
    "        break\n",
    "    print(cell_obj.value)\n",
    "print(m_row)\n",
    "print(count)\n",
    "\n",
    "\n",
    "for j in range(10,count+1)\n",
    "cell_obj = sheet_obj.cell(row=i,column=4)\n",
    "count1=count1+cell_obj.value\n",
    "print(count1)\n",
    "   \n"
   ]
  },
  {
   "cell_type": "code",
   "execution_count": null,
   "metadata": {},
   "outputs": [],
   "source": []
  },
  {
   "cell_type": "code",
   "execution_count": null,
   "metadata": {},
   "outputs": [],
   "source": []
  }
 ],
 "metadata": {
  "kernelspec": {
   "display_name": "Python 3",
   "language": "python",
   "name": "python3"
  },
  "language_info": {
   "codemirror_mode": {
    "name": "ipython",
    "version": 3
   },
   "file_extension": ".py",
   "mimetype": "text/x-python",
   "name": "python",
   "nbconvert_exporter": "python",
   "pygments_lexer": "ipython3",
   "version": "3.7.3"
  }
 },
 "nbformat": 4,
 "nbformat_minor": 2
}
