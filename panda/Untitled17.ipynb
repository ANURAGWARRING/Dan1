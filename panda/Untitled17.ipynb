{
 "cells": [
  {
   "cell_type": "code",
   "execution_count": null,
   "metadata": {},
   "outputs": [],
   "source": [
    "# -*- coding: utf-8 -*-\n",
    "\"\"\"\n",
    "Spyder Editor\n",
    "\n",
    "This is a temporary script file.\n",
    "\"\"\"\n",
    "import numpy as np\n",
    "import matplotlib.pyplot as plt\n",
    "import seaborn as sns\n",
    "import pandas as pd\n",
    "from matplotlib.pyplot import figure\n",
    "\n",
    "plt.figure(figsize=(500,400))\n",
    "\n",
    "data_file = np.loadtxt('etoh823.txt.csv',delimiter=';' ,dtype=str)\n",
    "sensor_read_co2 = data_file[16:1016,1]\n",
    "Co2_to_be_plotted = list(sensor_read_co2)\n",
    "sensor_read_O2 = data_file[16:216,3]\n",
    "O2_to_be_plotted = list(sensor_read_O2)\n",
    "Rq = data_file[16:116,9]\n",
    "\n",
    "\n",
    "time_diffrence = (np.datetime64('2019-05-30T11:17:37') - np.datetime64('2019-05-29T17:16:48'))/2\n",
    "y1 = np.arange(1,100,100)\n",
    "data = Rq\n",
    "\n",
    "\n",
    "\n",
    "x = np.linspace(1, 100,num=100)\n",
    "plt.plot(y1,Rq,'ro')\n",
    "\n",
    "plt.savefig('150001_readings.svg',dpi=1000)"
   ]
  },
  {
   "cell_type": "code",
   "execution_count": null,
   "metadata": {},
   "outputs": [],
   "source": []
  },
  {
   "cell_type": "code",
   "execution_count": null,
   "metadata": {},
   "outputs": [],
   "source": []
  },
  {
   "cell_type": "code",
   "execution_count": null,
   "metadata": {},
   "outputs": [],
   "source": []
  },
  {
   "cell_type": "code",
   "execution_count": null,
   "metadata": {},
   "outputs": [],
   "source": []
  },
  {
   "cell_type": "code",
   "execution_count": null,
   "metadata": {},
   "outputs": [],
   "source": []
  }
 ],
 "metadata": {
  "kernelspec": {
   "display_name": "Python 3",
   "language": "python",
   "name": "python3"
  },
  "language_info": {
   "codemirror_mode": {
    "name": "ipython",
    "version": 3
   },
   "file_extension": ".py",
   "mimetype": "text/x-python",
   "name": "python",
   "nbconvert_exporter": "python",
   "pygments_lexer": "ipython3",
   "version": "3.7.3"
  }
 },
 "nbformat": 4,
 "nbformat_minor": 2
}
